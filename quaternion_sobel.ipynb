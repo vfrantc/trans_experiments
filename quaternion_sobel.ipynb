{
  "nbformat": 4,
  "nbformat_minor": 0,
  "metadata": {
    "colab": {
      "name": "quaternion_sobel.ipynb",
      "provenance": [],
      "authorship_tag": "ABX9TyPcNz6OmZgCECqamJew2Jqw",
      "include_colab_link": true
    },
    "kernelspec": {
      "name": "python3",
      "display_name": "Python 3"
    },
    "language_info": {
      "name": "python"
    }
  },
  "cells": [
    {
      "cell_type": "markdown",
      "metadata": {
        "id": "view-in-github",
        "colab_type": "text"
      },
      "source": [
        "<a href=\"https://colab.research.google.com/github/vfrantc/trans_experiments/blob/main/quaternion_sobel.ipynb\" target=\"_parent\"><img src=\"https://colab.research.google.com/assets/colab-badge.svg\" alt=\"Open In Colab\"/></a>"
      ]
    },
    {
      "cell_type": "code",
      "execution_count": 1,
      "metadata": {
        "id": "SYOr3wv_HOhO"
      },
      "outputs": [],
      "source": [
        "import numpy as np\n",
        "import matplotlib.pyplot as plt\n",
        "from scipy import signal\n",
        "from scipy import fftpack\n",
        "import cv2"
      ]
    },
    {
      "cell_type": "code",
      "source": [
        "def img_qft(img, mu):\n",
        "    \"\"\"\n",
        "    Obtain the Fourier Transform for Quaternions of an Image.\n",
        "    Parameters\n",
        "    ----------\n",
        "    img : Color image [R, G, B].\n",
        "    mu : list\n",
        "      Pure quaternion unit.\n",
        "      e.g., (i + j + k) / sqrt(3) -> [1/sqrt(3), 1/sqrt(3), 1/sqrt(3)]\n",
        "    Return\n",
        "    ------\n",
        "    Fuv : QFT in the frequency domain of the 4-D space image.\n",
        "    \"\"\"\n",
        "\n",
        "    fr = img[:, :, 0]\n",
        "    fg = img[:, :, 1]\n",
        "    fb = img[:, :, 2]\n",
        "\n",
        "    DFTfr = np.fft.fft2(fr)\n",
        "    DFTfg = np.fft.fft2(fg)\n",
        "    DFTfb = np.fft.fft2(fb)\n",
        "\n",
        "    alpha = mu[0]\n",
        "    betha = mu[1]\n",
        "    gamma = mu[2]\n",
        "\n",
        "    Auv = - (alpha * DFTfr[:, :].imag) - (betha * DFTfg[:, :].imag) - (gamma * DFTfb[:, :].imag)\n",
        "    iBuv = DFTfr[:, :].real + (gamma * DFTfg[:, :].imag) - (betha * DFTfb[:, :].imag)\n",
        "    jCuv = DFTfg[:, :].real + (alpha * DFTfb[:, :].imag) - (gamma * DFTfr[:, :].imag)\n",
        "    kDuv = DFTfb[:, :].real + (betha * DFTfr[:, :].imag) - (alpha * DFTfg[:, :].imag)\n",
        "\n",
        "    Fuv = np.zeros((img.shape[0], img.shape[1], 4))\n",
        "    Fuv[:, :, 0] = Auv\n",
        "    Fuv[:, :, 1] = iBuv\n",
        "    Fuv[:, :, 2] = jCuv\n",
        "    Fuv[:, :, 3] = kDuv\n",
        "\n",
        "    return Fuv"
      ],
      "metadata": {
        "id": "RuBUBFeAHYCm"
      },
      "execution_count": 2,
      "outputs": []
    },
    {
      "cell_type": "code",
      "source": [
        "def img_iqft(img_qft, mu):\n",
        "    \"\"\"\n",
        "    Inverse Fourier transform of the QFT of an image.\n",
        "    Parameters\n",
        "    ----------\n",
        "    img_qft : QFT 4-D image [Auv, iBuv, jCuv, kDuv].\n",
        "    mu : list\n",
        "      Pure quaternion unit.\n",
        "      e.g., (i + j + k) / sqrt(3) -> [1/sqrt(3), 1/sqrt(3), 1/sqrt(3)]\n",
        "    Returns\n",
        "    -------\n",
        "    fmn : Color image.\n",
        "    \"\"\"\n",
        "\n",
        "    A = img_qft[:, :, 0]\n",
        "    B = img_qft[:, :, 1]\n",
        "    C = img_qft[:, :, 2]\n",
        "    D = img_qft[:, :, 3]\n",
        "\n",
        "    IDFTA = np.fft.ifft2(A)\n",
        "    IDFTB = np.fft.ifft2(B)\n",
        "    IDFTC = np.fft.ifft2(C)\n",
        "    IDFTD = np.fft.ifft2(D)\n",
        "\n",
        "    alpha = mu[0]\n",
        "    betha = mu[1]\n",
        "    gamma = mu[2]\n",
        "\n",
        "    fa = (\n",
        "        IDFTA[:, :].real - (alpha * IDFTB[:, :].imag) -\n",
        "        (betha * IDFTC[:, :].imag) - (gamma * IDFTD[:, :].imag)\n",
        "    )\n",
        "    fr = (\n",
        "        IDFTB[:, :].real + (alpha * IDFTA[:, :].imag) +\n",
        "        (gamma * IDFTC[:, :].imag) - (betha * IDFTD[:, :].imag)\n",
        "    )\n",
        "    fg = (\n",
        "        IDFTC[:, :].real + (betha * IDFTA[:, :].imag) +\n",
        "        (alpha * IDFTD[:, :].imag) - (gamma * IDFTB[:, :].imag)\n",
        "    )\n",
        "    fb = (\n",
        "        IDFTD[:, :].real + (gamma * IDFTA[:, :].imag) +\n",
        "        (betha * IDFTB[:, :].imag) - (alpha * IDFTC[:, :].imag)\n",
        "    )\n",
        "\n",
        "    fmn = np.zeros((img_qft.shape[0], img_qft.shape[1], 4))\n",
        "    fmn[:, :, 0] = fa\n",
        "    fmn[:, :, 1] = fr\n",
        "    fmn[:, :, 2] = fg\n",
        "    fmn[:, :, 3] = fb\n",
        "\n",
        "    return fmn"
      ],
      "metadata": {
        "id": "sEosMSa9HpYk"
      },
      "execution_count": 3,
      "outputs": []
    },
    {
      "cell_type": "code",
      "source": [
        "def sobel_filter_qft(f):\n",
        "    \"\"\"\n",
        "    Vertical and horizontal sobel filter in the frequency domain applied to the\n",
        "    QFT of the image.\n",
        "    Parameters\n",
        "    ----------\n",
        "    f : QFT of the image.\n",
        "    Returns\n",
        "    -------\n",
        "    Gx : complex\n",
        "        Sobel filter applied horizontally at qft in the frequency domain.\n",
        "    Gy : complex\n",
        "        Sobel filter applied vertically at qft in the frequency domain.\n",
        "    \"\"\"\n",
        "\n",
        "    # sobel in x direction\n",
        "    sobel_x = np.array([[-1, 0, 1],\n",
        "                       [-2, 0, 2],\n",
        "                       [-1, 0, 1]])\n",
        "    # sobel in y direction\n",
        "    sobel_y = np.flip(sobel_x.T, axis=0)\n",
        "\n",
        "    sz_x = (f.shape[0] - sobel_x.shape[0], f.shape[1] - sobel_x.shape[1])\n",
        "    sobel_x = np.pad(sobel_x, (((sz_x[0] + 1) // 2, sz_x[0] // 2),\n",
        "                               ((sz_x[1] + 1) // 2, sz_x[1] // 2)), 'constant')\n",
        "    sobel_x = fftpack.ifftshift(sobel_x)\n",
        "\n",
        "    sz_y = (f.shape[0] - sobel_y.shape[0], f.shape[1] - sobel_y.shape[1])\n",
        "    sobel_y = np.pad(sobel_y, (((sz_y[0] + 1) // 2, sz_y[0] // 2),\n",
        "                               ((sz_y[1] + 1) // 2, sz_y[1] // 2)), 'constant')\n",
        "    sobel_y = fftpack.ifftshift(sobel_y)\n",
        "\n",
        "    Gx = np.zeros((f.shape))\n",
        "    Gy = np.zeros((f.shape))\n",
        "\n",
        "    for i in range(f.shape[2]):\n",
        "        if i == 0:\n",
        "            Gx[:, :, i] = f[:, :, i] * fftpack.fft2(sobel_x).real\n",
        "            Gy[:, :, i] = f[:, :, i] * fftpack.fft2(sobel_y).real\n",
        "        else:\n",
        "            Gx[:, :, i] = f[:, :, i] * fftpack.fft2(sobel_x).imag\n",
        "            Gy[:, :, i] = f[:, :, i] * fftpack.fft2(sobel_y).imag\n",
        "\n",
        "    return Gx, Gy"
      ],
      "metadata": {
        "id": "5dUiPVbVH1uX"
      },
      "execution_count": 4,
      "outputs": []
    },
    {
      "cell_type": "code",
      "source": [
        "def img_out(F, mu=[(1 / np.sqrt(3))] * 3):\n",
        "    \"\"\"\n",
        "    Retrieve color image using inverse Fourier transform for quaternions.\n",
        "    Parameters\n",
        "    ----------\n",
        "    F : Quaternion Fourier transform image.\n",
        "    mu : list\n",
        "      Pure quaternion unit.\n",
        "      e.g., (i + j + k) / sqrt(3) -> [1/sqrt(3), 1/sqrt(3), 1/sqrt(3)]\n",
        "    Return\n",
        "    ------\n",
        "    Normalized image in [0, 1] range.\n",
        "    \"\"\"\n",
        "\n",
        "    out = img_iqft(F, mu)\n",
        "\n",
        "    for d in range(out.shape[2]):\n",
        "        np.putmask(out[:, :, d], out[:, :, d] < 0, 0)\n",
        "\n",
        "    return cv2.normalize(out, None, 0, 1, cv2.NORM_MINMAX)\n"
      ],
      "metadata": {
        "id": "2l6CXnwpH8Rw"
      },
      "execution_count": null,
      "outputs": []
    },
    {
      "cell_type": "code",
      "source": [
        "def color_xyedge_det(img, mu=[(1 / np.sqrt(3))] * 3):\n",
        "    \"\"\"\n",
        "    Color image recovered once the horizontal and vertical sobel filter is\n",
        "    applied.\n",
        "    \"\"\"\n",
        "\n",
        "    f = img_qft(img, mu)\n",
        "    Gx, Gy = sobel_filter_qft(f)\n",
        "\n",
        "    return img_out(Gx, mu), img_out(Gy, mu)\n"
      ],
      "metadata": {
        "id": "mWSehvgXIpBL"
      },
      "execution_count": 5,
      "outputs": []
    },
    {
      "cell_type": "code",
      "source": [
        "def correlate_qft(img, mu=[(1 / np.sqrt(3))] * 3):\n",
        "    \"\"\"\n",
        "    Retrieve Color Image from Horizontal and Vertical Sobel Filter Correlation.\n",
        "    \"\"\"\n",
        "\n",
        "    f = img_qft(img, mu)\n",
        "    Gx, Gy = sobel_filter_qft(f)\n",
        "\n",
        "    correlate = np.zeros(f.shape)\n",
        "\n",
        "    for j in range(f.shape[2]):\n",
        "        correlate[:, :, j] = Gx[:, :, j] - Gy[:, :, j]\n",
        "\n",
        "    return img_out(correlate, mu)\n"
      ],
      "metadata": {
        "id": "5N_-jBK2IvDy"
      },
      "execution_count": 6,
      "outputs": []
    },
    {
      "cell_type": "code",
      "source": [
        "if __name__ == '__main__':\n",
        "    # Read image\n",
        "    img = plt.imread('./images/shapes.png')\n",
        "\n",
        "    # Normalize image\n",
        "    vmin = img.min()\n",
        "    vmax = img.max()\n",
        "    img = (np.float32(img) - vmin) / (vmax - vmin)\n",
        "\n",
        "    # Get a vertical and horizontal sobel filter apply in image\n",
        "    img_sobelx, img_sobely = color_xyedge_det(img)\n",
        "\n",
        "    # Show\n",
        "    fig, (ax1, ax2, ax3) = plt.subplots(ncols=3, nrows=1)\n",
        "\n",
        "    ax1.imshow(img, cmap='gray')\n",
        "    ax1.set_title('Input image'), ax1.set_xticks([]), ax1.set_yticks([])\n",
        "\n",
        "    ax2.imshow(img_sobelx[:, :, 1:], cmap='gray')\n",
        "    ax2.set_title('IQFT Sobel X'), ax2.set_xticks([]), ax2.set_yticks([])\n",
        "\n",
        "    ax3.imshow(img_sobely[:, :, 1:], cmap='gray')\n",
        "    ax3.set_title('IQFT Sobel Y'), ax3.set_xticks([]), ax3.set_yticks([])\n",
        "\n",
        "    plt.show()\n",
        "\n",
        "    # Combine horizontal and vertical sobel filter using correlation\n",
        "    correlate = correlate_qft(img)\n",
        "\n",
        "    plt.figure(figsize=(8, 8))\n",
        "    plt.title('Sobel H-V Filter Correlation')\n",
        "    plt.xticks([])\n",
        "    plt.yticks([])\n",
        "    plt.imshow(correlate[:, :, 1:], cmap='gray')\n",
        "\n",
        "    plt.show()"
      ],
      "metadata": {
        "colab": {
          "base_uri": "https://localhost:8080/",
          "height": 375
        },
        "id": "ys1lTc0QI0kd",
        "outputId": "b830d1dc-e30a-4ed2-947b-e28167e97324"
      },
      "execution_count": 7,
      "outputs": [
        {
          "output_type": "error",
          "ename": "FileNotFoundError",
          "evalue": "ignored",
          "traceback": [
            "\u001b[0;31m---------------------------------------------------------------------------\u001b[0m",
            "\u001b[0;31mFileNotFoundError\u001b[0m                         Traceback (most recent call last)",
            "\u001b[0;32m<ipython-input-7-7bb84e7f9c20>\u001b[0m in \u001b[0;36m<module>\u001b[0;34m()\u001b[0m\n\u001b[1;32m      1\u001b[0m \u001b[0;32mif\u001b[0m \u001b[0m__name__\u001b[0m \u001b[0;34m==\u001b[0m \u001b[0;34m'__main__'\u001b[0m\u001b[0;34m:\u001b[0m\u001b[0;34m\u001b[0m\u001b[0;34m\u001b[0m\u001b[0m\n\u001b[1;32m      2\u001b[0m     \u001b[0;31m# Read image\u001b[0m\u001b[0;34m\u001b[0m\u001b[0;34m\u001b[0m\u001b[0;34m\u001b[0m\u001b[0m\n\u001b[0;32m----> 3\u001b[0;31m     \u001b[0mimg\u001b[0m \u001b[0;34m=\u001b[0m \u001b[0mplt\u001b[0m\u001b[0;34m.\u001b[0m\u001b[0mimread\u001b[0m\u001b[0;34m(\u001b[0m\u001b[0;34m'./images/shapes.png'\u001b[0m\u001b[0;34m)\u001b[0m\u001b[0;34m\u001b[0m\u001b[0;34m\u001b[0m\u001b[0m\n\u001b[0m\u001b[1;32m      4\u001b[0m \u001b[0;34m\u001b[0m\u001b[0m\n\u001b[1;32m      5\u001b[0m     \u001b[0;31m# Normalize image\u001b[0m\u001b[0;34m\u001b[0m\u001b[0;34m\u001b[0m\u001b[0;34m\u001b[0m\u001b[0m\n",
            "\u001b[0;32m/usr/local/lib/python3.7/dist-packages/matplotlib/pyplot.py\u001b[0m in \u001b[0;36mimread\u001b[0;34m(fname, format)\u001b[0m\n\u001b[1;32m   2059\u001b[0m \u001b[0;34m@\u001b[0m\u001b[0mdocstring\u001b[0m\u001b[0;34m.\u001b[0m\u001b[0mcopy\u001b[0m\u001b[0;34m(\u001b[0m\u001b[0mmatplotlib\u001b[0m\u001b[0;34m.\u001b[0m\u001b[0mimage\u001b[0m\u001b[0;34m.\u001b[0m\u001b[0mimread\u001b[0m\u001b[0;34m)\u001b[0m\u001b[0;34m\u001b[0m\u001b[0;34m\u001b[0m\u001b[0m\n\u001b[1;32m   2060\u001b[0m \u001b[0;32mdef\u001b[0m \u001b[0mimread\u001b[0m\u001b[0;34m(\u001b[0m\u001b[0mfname\u001b[0m\u001b[0;34m,\u001b[0m \u001b[0mformat\u001b[0m\u001b[0;34m=\u001b[0m\u001b[0;32mNone\u001b[0m\u001b[0;34m)\u001b[0m\u001b[0;34m:\u001b[0m\u001b[0;34m\u001b[0m\u001b[0;34m\u001b[0m\u001b[0m\n\u001b[0;32m-> 2061\u001b[0;31m     \u001b[0;32mreturn\u001b[0m \u001b[0mmatplotlib\u001b[0m\u001b[0;34m.\u001b[0m\u001b[0mimage\u001b[0m\u001b[0;34m.\u001b[0m\u001b[0mimread\u001b[0m\u001b[0;34m(\u001b[0m\u001b[0mfname\u001b[0m\u001b[0;34m,\u001b[0m \u001b[0mformat\u001b[0m\u001b[0;34m)\u001b[0m\u001b[0;34m\u001b[0m\u001b[0;34m\u001b[0m\u001b[0m\n\u001b[0m\u001b[1;32m   2062\u001b[0m \u001b[0;34m\u001b[0m\u001b[0m\n\u001b[1;32m   2063\u001b[0m \u001b[0;34m\u001b[0m\u001b[0m\n",
            "\u001b[0;32m/usr/local/lib/python3.7/dist-packages/matplotlib/image.py\u001b[0m in \u001b[0;36mimread\u001b[0;34m(fname, format)\u001b[0m\n\u001b[1;32m   1472\u001b[0m             \u001b[0mfd\u001b[0m \u001b[0;34m=\u001b[0m \u001b[0mBytesIO\u001b[0m\u001b[0;34m(\u001b[0m\u001b[0mrequest\u001b[0m\u001b[0;34m.\u001b[0m\u001b[0murlopen\u001b[0m\u001b[0;34m(\u001b[0m\u001b[0mfname\u001b[0m\u001b[0;34m)\u001b[0m\u001b[0;34m.\u001b[0m\u001b[0mread\u001b[0m\u001b[0;34m(\u001b[0m\u001b[0;34m)\u001b[0m\u001b[0;34m)\u001b[0m\u001b[0;34m\u001b[0m\u001b[0;34m\u001b[0m\u001b[0m\n\u001b[1;32m   1473\u001b[0m             \u001b[0;32mreturn\u001b[0m \u001b[0m_png\u001b[0m\u001b[0;34m.\u001b[0m\u001b[0mread_png\u001b[0m\u001b[0;34m(\u001b[0m\u001b[0mfd\u001b[0m\u001b[0;34m)\u001b[0m\u001b[0;34m\u001b[0m\u001b[0;34m\u001b[0m\u001b[0m\n\u001b[0;32m-> 1474\u001b[0;31m     \u001b[0;32mwith\u001b[0m \u001b[0mcbook\u001b[0m\u001b[0;34m.\u001b[0m\u001b[0mopen_file_cm\u001b[0m\u001b[0;34m(\u001b[0m\u001b[0mfname\u001b[0m\u001b[0;34m,\u001b[0m \u001b[0;34m\"rb\"\u001b[0m\u001b[0;34m)\u001b[0m \u001b[0;32mas\u001b[0m \u001b[0mfile\u001b[0m\u001b[0;34m:\u001b[0m\u001b[0;34m\u001b[0m\u001b[0;34m\u001b[0m\u001b[0m\n\u001b[0m\u001b[1;32m   1475\u001b[0m         \u001b[0;32mreturn\u001b[0m \u001b[0m_png\u001b[0m\u001b[0;34m.\u001b[0m\u001b[0mread_png\u001b[0m\u001b[0;34m(\u001b[0m\u001b[0mfile\u001b[0m\u001b[0;34m)\u001b[0m\u001b[0;34m\u001b[0m\u001b[0;34m\u001b[0m\u001b[0m\n\u001b[1;32m   1476\u001b[0m \u001b[0;34m\u001b[0m\u001b[0m\n",
            "\u001b[0;32m/usr/lib/python3.7/contextlib.py\u001b[0m in \u001b[0;36m__enter__\u001b[0;34m(self)\u001b[0m\n\u001b[1;32m    110\u001b[0m         \u001b[0;32mdel\u001b[0m \u001b[0mself\u001b[0m\u001b[0;34m.\u001b[0m\u001b[0margs\u001b[0m\u001b[0;34m,\u001b[0m \u001b[0mself\u001b[0m\u001b[0;34m.\u001b[0m\u001b[0mkwds\u001b[0m\u001b[0;34m,\u001b[0m \u001b[0mself\u001b[0m\u001b[0;34m.\u001b[0m\u001b[0mfunc\u001b[0m\u001b[0;34m\u001b[0m\u001b[0;34m\u001b[0m\u001b[0m\n\u001b[1;32m    111\u001b[0m         \u001b[0;32mtry\u001b[0m\u001b[0;34m:\u001b[0m\u001b[0;34m\u001b[0m\u001b[0;34m\u001b[0m\u001b[0m\n\u001b[0;32m--> 112\u001b[0;31m             \u001b[0;32mreturn\u001b[0m \u001b[0mnext\u001b[0m\u001b[0;34m(\u001b[0m\u001b[0mself\u001b[0m\u001b[0;34m.\u001b[0m\u001b[0mgen\u001b[0m\u001b[0;34m)\u001b[0m\u001b[0;34m\u001b[0m\u001b[0;34m\u001b[0m\u001b[0m\n\u001b[0m\u001b[1;32m    113\u001b[0m         \u001b[0;32mexcept\u001b[0m \u001b[0mStopIteration\u001b[0m\u001b[0;34m:\u001b[0m\u001b[0;34m\u001b[0m\u001b[0;34m\u001b[0m\u001b[0m\n\u001b[1;32m    114\u001b[0m             \u001b[0;32mraise\u001b[0m \u001b[0mRuntimeError\u001b[0m\u001b[0;34m(\u001b[0m\u001b[0;34m\"generator didn't yield\"\u001b[0m\u001b[0;34m)\u001b[0m \u001b[0;32mfrom\u001b[0m \u001b[0;32mNone\u001b[0m\u001b[0;34m\u001b[0m\u001b[0;34m\u001b[0m\u001b[0m\n",
            "\u001b[0;32m/usr/local/lib/python3.7/dist-packages/matplotlib/cbook/__init__.py\u001b[0m in \u001b[0;36mopen_file_cm\u001b[0;34m(path_or_file, mode, encoding)\u001b[0m\n\u001b[1;32m    416\u001b[0m \u001b[0;32mdef\u001b[0m \u001b[0mopen_file_cm\u001b[0m\u001b[0;34m(\u001b[0m\u001b[0mpath_or_file\u001b[0m\u001b[0;34m,\u001b[0m \u001b[0mmode\u001b[0m\u001b[0;34m=\u001b[0m\u001b[0;34m\"r\"\u001b[0m\u001b[0;34m,\u001b[0m \u001b[0mencoding\u001b[0m\u001b[0;34m=\u001b[0m\u001b[0;32mNone\u001b[0m\u001b[0;34m)\u001b[0m\u001b[0;34m:\u001b[0m\u001b[0;34m\u001b[0m\u001b[0;34m\u001b[0m\u001b[0m\n\u001b[1;32m    417\u001b[0m     \u001b[0;34mr\"\"\"Pass through file objects and context-manage `.PathLike`\\s.\"\"\"\u001b[0m\u001b[0;34m\u001b[0m\u001b[0;34m\u001b[0m\u001b[0m\n\u001b[0;32m--> 418\u001b[0;31m     \u001b[0mfh\u001b[0m\u001b[0;34m,\u001b[0m \u001b[0mopened\u001b[0m \u001b[0;34m=\u001b[0m \u001b[0mto_filehandle\u001b[0m\u001b[0;34m(\u001b[0m\u001b[0mpath_or_file\u001b[0m\u001b[0;34m,\u001b[0m \u001b[0mmode\u001b[0m\u001b[0;34m,\u001b[0m \u001b[0;32mTrue\u001b[0m\u001b[0;34m,\u001b[0m \u001b[0mencoding\u001b[0m\u001b[0;34m)\u001b[0m\u001b[0;34m\u001b[0m\u001b[0;34m\u001b[0m\u001b[0m\n\u001b[0m\u001b[1;32m    419\u001b[0m     \u001b[0;32mif\u001b[0m \u001b[0mopened\u001b[0m\u001b[0;34m:\u001b[0m\u001b[0;34m\u001b[0m\u001b[0;34m\u001b[0m\u001b[0m\n\u001b[1;32m    420\u001b[0m         \u001b[0;32mwith\u001b[0m \u001b[0mfh\u001b[0m\u001b[0;34m:\u001b[0m\u001b[0;34m\u001b[0m\u001b[0;34m\u001b[0m\u001b[0m\n",
            "\u001b[0;32m/usr/local/lib/python3.7/dist-packages/matplotlib/cbook/__init__.py\u001b[0m in \u001b[0;36mto_filehandle\u001b[0;34m(fname, flag, return_opened, encoding)\u001b[0m\n\u001b[1;32m    401\u001b[0m             \u001b[0mfh\u001b[0m \u001b[0;34m=\u001b[0m \u001b[0mbz2\u001b[0m\u001b[0;34m.\u001b[0m\u001b[0mBZ2File\u001b[0m\u001b[0;34m(\u001b[0m\u001b[0mfname\u001b[0m\u001b[0;34m,\u001b[0m \u001b[0mflag\u001b[0m\u001b[0;34m)\u001b[0m\u001b[0;34m\u001b[0m\u001b[0;34m\u001b[0m\u001b[0m\n\u001b[1;32m    402\u001b[0m         \u001b[0;32melse\u001b[0m\u001b[0;34m:\u001b[0m\u001b[0;34m\u001b[0m\u001b[0;34m\u001b[0m\u001b[0m\n\u001b[0;32m--> 403\u001b[0;31m             \u001b[0mfh\u001b[0m \u001b[0;34m=\u001b[0m \u001b[0mopen\u001b[0m\u001b[0;34m(\u001b[0m\u001b[0mfname\u001b[0m\u001b[0;34m,\u001b[0m \u001b[0mflag\u001b[0m\u001b[0;34m,\u001b[0m \u001b[0mencoding\u001b[0m\u001b[0;34m=\u001b[0m\u001b[0mencoding\u001b[0m\u001b[0;34m)\u001b[0m\u001b[0;34m\u001b[0m\u001b[0;34m\u001b[0m\u001b[0m\n\u001b[0m\u001b[1;32m    404\u001b[0m         \u001b[0mopened\u001b[0m \u001b[0;34m=\u001b[0m \u001b[0;32mTrue\u001b[0m\u001b[0;34m\u001b[0m\u001b[0;34m\u001b[0m\u001b[0m\n\u001b[1;32m    405\u001b[0m     \u001b[0;32melif\u001b[0m \u001b[0mhasattr\u001b[0m\u001b[0;34m(\u001b[0m\u001b[0mfname\u001b[0m\u001b[0;34m,\u001b[0m \u001b[0;34m'seek'\u001b[0m\u001b[0;34m)\u001b[0m\u001b[0;34m:\u001b[0m\u001b[0;34m\u001b[0m\u001b[0;34m\u001b[0m\u001b[0m\n",
            "\u001b[0;31mFileNotFoundError\u001b[0m: [Errno 2] No such file or directory: './images/shapes.png'"
          ]
        }
      ]
    },
    {
      "cell_type": "code",
      "source": [
        ""
      ],
      "metadata": {
        "id": "gSkMowKPJHdF"
      },
      "execution_count": null,
      "outputs": []
    }
  ]
}